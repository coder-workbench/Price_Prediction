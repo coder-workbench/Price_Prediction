{
 "cells": [
  {
   "cell_type": "code",
   "execution_count": 3,
   "id": "5c966c02-9005-4442-ba98-6d2f46b8db55",
   "metadata": {},
   "outputs": [],
   "source": [
    "import numpy as np \n",
    "import pandas as pd\n",
    "import matplotlib.pyplot as plt\n",
    "import seaborn as sns\n",
    "from sklearn.metrics import r2_score"
   ]
  },
  {
   "cell_type": "code",
   "execution_count": 5,
   "id": "bb1c2c84-3bf2-4d98-ae84-8126b4c1d80e",
   "metadata": {},
   "outputs": [],
   "source": [
    "data=pd.read_csv(r'/home/aids/TE A14/DSL/Boston.csv')"
   ]
  },
  {
   "cell_type": "code",
   "execution_count": 6,
   "id": "eb84176f-b5e2-4766-a791-246274f2fcc2",
   "metadata": {},
   "outputs": [
    {
     "data": {
      "text/html": [
       "<div>\n",
       "<style scoped>\n",
       "    .dataframe tbody tr th:only-of-type {\n",
       "        vertical-align: middle;\n",
       "    }\n",
       "\n",
       "    .dataframe tbody tr th {\n",
       "        vertical-align: top;\n",
       "    }\n",
       "\n",
       "    .dataframe thead th {\n",
       "        text-align: right;\n",
       "    }\n",
       "</style>\n",
       "<table border=\"1\" class=\"dataframe\">\n",
       "  <thead>\n",
       "    <tr style=\"text-align: right;\">\n",
       "      <th></th>\n",
       "      <th>RM</th>\n",
       "      <th>LSTAT</th>\n",
       "      <th>PTRATIO</th>\n",
       "      <th>MEDV</th>\n",
       "    </tr>\n",
       "  </thead>\n",
       "  <tbody>\n",
       "    <tr>\n",
       "      <th>0</th>\n",
       "      <td>6.575</td>\n",
       "      <td>4.98</td>\n",
       "      <td>15.3</td>\n",
       "      <td>504000.0</td>\n",
       "    </tr>\n",
       "    <tr>\n",
       "      <th>1</th>\n",
       "      <td>6.421</td>\n",
       "      <td>9.14</td>\n",
       "      <td>17.8</td>\n",
       "      <td>453600.0</td>\n",
       "    </tr>\n",
       "    <tr>\n",
       "      <th>2</th>\n",
       "      <td>7.185</td>\n",
       "      <td>4.03</td>\n",
       "      <td>17.8</td>\n",
       "      <td>728700.0</td>\n",
       "    </tr>\n",
       "    <tr>\n",
       "      <th>3</th>\n",
       "      <td>6.998</td>\n",
       "      <td>2.94</td>\n",
       "      <td>18.7</td>\n",
       "      <td>701400.0</td>\n",
       "    </tr>\n",
       "    <tr>\n",
       "      <th>4</th>\n",
       "      <td>7.147</td>\n",
       "      <td>5.33</td>\n",
       "      <td>18.7</td>\n",
       "      <td>760200.0</td>\n",
       "    </tr>\n",
       "    <tr>\n",
       "      <th>...</th>\n",
       "      <td>...</td>\n",
       "      <td>...</td>\n",
       "      <td>...</td>\n",
       "      <td>...</td>\n",
       "    </tr>\n",
       "    <tr>\n",
       "      <th>484</th>\n",
       "      <td>6.593</td>\n",
       "      <td>9.67</td>\n",
       "      <td>21.0</td>\n",
       "      <td>470400.0</td>\n",
       "    </tr>\n",
       "    <tr>\n",
       "      <th>485</th>\n",
       "      <td>6.120</td>\n",
       "      <td>9.08</td>\n",
       "      <td>21.0</td>\n",
       "      <td>432600.0</td>\n",
       "    </tr>\n",
       "    <tr>\n",
       "      <th>486</th>\n",
       "      <td>6.976</td>\n",
       "      <td>5.64</td>\n",
       "      <td>21.0</td>\n",
       "      <td>501900.0</td>\n",
       "    </tr>\n",
       "    <tr>\n",
       "      <th>487</th>\n",
       "      <td>6.794</td>\n",
       "      <td>6.48</td>\n",
       "      <td>21.0</td>\n",
       "      <td>462000.0</td>\n",
       "    </tr>\n",
       "    <tr>\n",
       "      <th>488</th>\n",
       "      <td>6.030</td>\n",
       "      <td>7.88</td>\n",
       "      <td>21.0</td>\n",
       "      <td>249900.0</td>\n",
       "    </tr>\n",
       "  </tbody>\n",
       "</table>\n",
       "<p>489 rows × 4 columns</p>\n",
       "</div>"
      ],
      "text/plain": [
       "        RM  LSTAT  PTRATIO      MEDV\n",
       "0    6.575   4.98     15.3  504000.0\n",
       "1    6.421   9.14     17.8  453600.0\n",
       "2    7.185   4.03     17.8  728700.0\n",
       "3    6.998   2.94     18.7  701400.0\n",
       "4    7.147   5.33     18.7  760200.0\n",
       "..     ...    ...      ...       ...\n",
       "484  6.593   9.67     21.0  470400.0\n",
       "485  6.120   9.08     21.0  432600.0\n",
       "486  6.976   5.64     21.0  501900.0\n",
       "487  6.794   6.48     21.0  462000.0\n",
       "488  6.030   7.88     21.0  249900.0\n",
       "\n",
       "[489 rows x 4 columns]"
      ]
     },
     "execution_count": 6,
     "metadata": {},
     "output_type": "execute_result"
    }
   ],
   "source": [
    "data"
   ]
  },
  {
   "cell_type": "code",
   "execution_count": 7,
   "id": "7baa6ece-ef55-48d8-a814-e1b15f53f66f",
   "metadata": {},
   "outputs": [
    {
     "data": {
      "text/html": [
       "<div>\n",
       "<style scoped>\n",
       "    .dataframe tbody tr th:only-of-type {\n",
       "        vertical-align: middle;\n",
       "    }\n",
       "\n",
       "    .dataframe tbody tr th {\n",
       "        vertical-align: top;\n",
       "    }\n",
       "\n",
       "    .dataframe thead th {\n",
       "        text-align: right;\n",
       "    }\n",
       "</style>\n",
       "<table border=\"1\" class=\"dataframe\">\n",
       "  <thead>\n",
       "    <tr style=\"text-align: right;\">\n",
       "      <th></th>\n",
       "      <th>RM</th>\n",
       "      <th>LSTAT</th>\n",
       "      <th>PTRATIO</th>\n",
       "      <th>MEDV</th>\n",
       "    </tr>\n",
       "  </thead>\n",
       "  <tbody>\n",
       "    <tr>\n",
       "      <th>count</th>\n",
       "      <td>489.000000</td>\n",
       "      <td>489.000000</td>\n",
       "      <td>489.000000</td>\n",
       "      <td>4.890000e+02</td>\n",
       "    </tr>\n",
       "    <tr>\n",
       "      <th>mean</th>\n",
       "      <td>6.240288</td>\n",
       "      <td>12.939632</td>\n",
       "      <td>18.516564</td>\n",
       "      <td>4.543429e+05</td>\n",
       "    </tr>\n",
       "    <tr>\n",
       "      <th>std</th>\n",
       "      <td>0.643650</td>\n",
       "      <td>7.081990</td>\n",
       "      <td>2.111268</td>\n",
       "      <td>1.653403e+05</td>\n",
       "    </tr>\n",
       "    <tr>\n",
       "      <th>min</th>\n",
       "      <td>3.561000</td>\n",
       "      <td>1.980000</td>\n",
       "      <td>12.600000</td>\n",
       "      <td>1.050000e+05</td>\n",
       "    </tr>\n",
       "    <tr>\n",
       "      <th>25%</th>\n",
       "      <td>5.880000</td>\n",
       "      <td>7.370000</td>\n",
       "      <td>17.400000</td>\n",
       "      <td>3.507000e+05</td>\n",
       "    </tr>\n",
       "    <tr>\n",
       "      <th>50%</th>\n",
       "      <td>6.185000</td>\n",
       "      <td>11.690000</td>\n",
       "      <td>19.100000</td>\n",
       "      <td>4.389000e+05</td>\n",
       "    </tr>\n",
       "    <tr>\n",
       "      <th>75%</th>\n",
       "      <td>6.575000</td>\n",
       "      <td>17.120000</td>\n",
       "      <td>20.200000</td>\n",
       "      <td>5.187000e+05</td>\n",
       "    </tr>\n",
       "    <tr>\n",
       "      <th>max</th>\n",
       "      <td>8.398000</td>\n",
       "      <td>37.970000</td>\n",
       "      <td>22.000000</td>\n",
       "      <td>1.024800e+06</td>\n",
       "    </tr>\n",
       "  </tbody>\n",
       "</table>\n",
       "</div>"
      ],
      "text/plain": [
       "               RM       LSTAT     PTRATIO          MEDV\n",
       "count  489.000000  489.000000  489.000000  4.890000e+02\n",
       "mean     6.240288   12.939632   18.516564  4.543429e+05\n",
       "std      0.643650    7.081990    2.111268  1.653403e+05\n",
       "min      3.561000    1.980000   12.600000  1.050000e+05\n",
       "25%      5.880000    7.370000   17.400000  3.507000e+05\n",
       "50%      6.185000   11.690000   19.100000  4.389000e+05\n",
       "75%      6.575000   17.120000   20.200000  5.187000e+05\n",
       "max      8.398000   37.970000   22.000000  1.024800e+06"
      ]
     },
     "execution_count": 7,
     "metadata": {},
     "output_type": "execute_result"
    }
   ],
   "source": [
    "data.describe()"
   ]
  },
  {
   "cell_type": "code",
   "execution_count": 8,
   "id": "c8e4b4e4-a61f-4eb8-b270-c65b7f77d156",
   "metadata": {},
   "outputs": [
    {
     "data": {
      "text/plain": [
       "RM         0\n",
       "LSTAT      0\n",
       "PTRATIO    0\n",
       "MEDV       0\n",
       "dtype: int64"
      ]
     },
     "execution_count": 8,
     "metadata": {},
     "output_type": "execute_result"
    }
   ],
   "source": [
    "data.isnull().sum()"
   ]
  },
  {
   "cell_type": "code",
   "execution_count": 9,
   "id": "4a226356-7265-4d5a-aeb2-57845dad2fec",
   "metadata": {},
   "outputs": [],
   "source": [
    "x=np.array(data['RM'])\n",
    "y=np.array(data['MEDV'])"
   ]
  },
  {
   "cell_type": "code",
   "execution_count": 10,
   "id": "c388ec3c-767d-4937-81de-f18821a991bc",
   "metadata": {},
   "outputs": [],
   "source": [
    "model=np.polyfit(x,y,1)"
   ]
  },
  {
   "cell_type": "code",
   "execution_count": 11,
   "id": "051b6d34-641b-4043-9206-7a25a3beeb6e",
   "metadata": {},
   "outputs": [
    {
     "data": {
      "text/plain": [
       "array([ 179098.59189784, -663283.91058252])"
      ]
     },
     "execution_count": 11,
     "metadata": {},
     "output_type": "execute_result"
    }
   ],
   "source": [
    "model"
   ]
  },
  {
   "cell_type": "code",
   "execution_count": 12,
   "id": "78c5daea-96ae-418b-b292-81a21cc8729c",
   "metadata": {},
   "outputs": [],
   "source": [
    "predict=np.poly1d(model)"
   ]
  },
  {
   "cell_type": "code",
   "execution_count": 13,
   "id": "474a872e-f081-4b1f-9071-74271bf7d432",
   "metadata": {},
   "outputs": [
    {
     "data": {
      "text/plain": [
       "514289.33114578156"
      ]
     },
     "execution_count": 13,
     "metadata": {},
     "output_type": "execute_result"
    }
   ],
   "source": [
    "predict(6.575)"
   ]
  },
  {
   "cell_type": "code",
   "execution_count": 14,
   "id": "4fc4d9a1-3dcd-4069-a4b2-0e967de54e9e",
   "metadata": {},
   "outputs": [
    {
     "data": {
      "text/plain": [
       "array([514289.33114578, 486708.14799351, 623539.47220346, 590048.03551857,\n",
       "       616733.72571135, 488320.03532059, 413456.8239073 , 442112.59861095,\n",
       "       345220.26039422, 412024.03517211, 478827.80995001, 412919.5281316 ,\n",
       "       391427.69710386, 402173.61261773, 428501.10562672, 381577.27454948,\n",
       "       399666.23233116, 409516.65488554, 313878.0068121 , 362413.72521641,\n",
       "       334295.24628845, 405039.1900881 , 436739.64085402, 377816.20411963,\n",
       "       397696.14782029, 339489.10545349, 377816.20411963, 419725.27462372,\n",
       "       499961.44379395, 532020.09174367, 359906.34492984, 424202.73942117,\n",
       "       402352.71120963, 357757.16182707, 428501.10562672, 399308.03514737,\n",
       "       382830.96469277, 384442.85201985, 405218.28868   , 517871.30298374,\n",
       "       594704.59890791, 549213.55656586, 441575.30283526, 449097.44369497,\n",
       "       423665.44364547, 354354.28858101, 372980.54213839, 416680.59856146,\n",
       "       303669.38707392, 340026.40122918, 404680.9929043 , 431903.97887277,\n",
       "       502827.02126432, 410949.44362073, 391248.59851197, 635001.78208493,\n",
       "       479902.4015014 , 557452.09179316, 437276.93662971, 398233.44359598,\n",
       "       364921.10550298, 405218.28868   , 492976.59870994, 547780.76783068,\n",
       "       609032.48625974, 463246.2324549 , 373159.64073028, 389457.61259299,\n",
       "       338593.612494  , 390711.30273627, 485991.75362592, 404322.79572051,\n",
       "       422949.04927788, 455186.79581949, 460201.55639263, 462529.83808731,\n",
       "       461276.14794402, 436381.44367022, 452858.51412482, 388741.2182254 ,\n",
       "       541512.31711425, 522169.66918929, 465395.41555767, 441217.10565146,\n",
       "       480976.99305278, 524139.75370016, 413994.11968299, 432978.57042416,\n",
       "       591659.92284565, 604555.02146229, 485991.75362592, 483842.57052315,\n",
       "       490469.21842337, 449097.44369497, 455903.19018709, 523244.26074067,\n",
       "       440500.71128387, 781862.62744116, 737267.07805859, 664911.24693187,\n",
       "       541512.31711425, 551183.64107674, 483842.57052315, 435844.14789453,\n",
       "       441217.10565146, 384621.95061174, 381935.47173328, 434053.16197555,\n",
       "       496200.3733641 , 452321.21834913, 446231.8662246 , 539363.13401148,\n",
       "       395726.06330941, 427784.71125912, 456798.68314657, 398412.54218788,\n",
       "       442828.99297854, 415068.71123438, 388383.0210416 , 363130.119584  ,\n",
       "       388024.8238578 , 412024.03517211, 404322.79572051, 385517.44357123,\n",
       "       389636.71118488, 408800.26051795, 341996.48574006, 356324.37309189,\n",
       "       488499.13391249, 346294.85194561, 493334.79589373, 469693.78176322,\n",
       "       477932.31699052, 379428.09144671, 367786.68297335, 471305.6690903 ,\n",
       "       400919.92247445, 492618.40152614, 385696.54216313, 438351.5281811 ,\n",
       "       442470.79579475, 235611.92215274, 304385.78144151, 316027.18991487,\n",
       "       214836.48549259, 434590.45775124, 344682.96461853, 218955.75310624,\n",
       "       265521.38699968, 339130.90826969, 433157.66901606, 304564.88003341,\n",
       "       234358.23200946, 359189.95056225, 434411.35915934, 438530.62677299,\n",
       "       280923.86590289, 580197.61296419, 423128.14786978, 502647.92267242,\n",
       "       456082.28877898, 385159.24638744, 429396.59858621, 389278.51400109,\n",
       "       468440.09161993, 483305.27474746, 388920.31681729, 389815.80977678,\n",
       "       334653.44347225, 485812.65503402, 386054.73934693, 509095.47198074,\n",
       "       414889.61264248, 467723.69725234, 565332.42983667, 586824.26086441,\n",
       "       727416.65550421, 437097.83803781, 618166.51444653, 512140.14804301,\n",
       "       340384.59841298, 438709.72536489, 551362.73966863, 510886.45789972,\n",
       "       623539.47220346, 581630.40169937, 543661.50021703, 622285.78206018,\n",
       "       554586.5143228 , 519483.19031082, 641807.52857704, 609569.78203543,\n",
       "       639479.24688237, 585928.76790492, 614584.54260857, 440321.61269197,\n",
       "       699656.37376005, 743177.33159122, 391785.89428766, 469693.78176322,\n",
       "       372443.24636269, 422769.95068598, 293818.96451954, 404143.69712861,\n",
       "       304564.88003341, 376741.61256824, 478469.61276621, 305997.66876859,\n",
       "       443903.58452993, 391248.59851197, 526288.93680294, 402531.80980153,\n",
       "       478111.41558242, 581630.40169937, 440679.80987577, 568735.30308273,\n",
       "       521990.57059739, 817145.05004503, 776668.76827612, 619599.30318171,\n",
       "       713267.86674428, 510170.06353213, 407904.76755846, 664194.85256427,\n",
       "       829861.05006978, 813742.17679897, 541333.21852236, 426710.11970774,\n",
       "       524318.85229206, 654523.52860179, 497454.06350738, 519841.38749461,\n",
       "       571959.07773689, 428322.00703482, 475424.93670395, 481693.38742037,\n",
       "       338414.5139021 , 340563.69700488, 430650.28872949, 451783.92257344,\n",
       "       488857.33109629, 539900.42978717, 498528.65505877, 489752.82405578,\n",
       "       582704.99325076, 815891.35990175, 430650.28872949, 389099.41540919,\n",
       "       671716.99342398, 650046.06380434, 562108.65518251, 626763.24685763,\n",
       "       683537.50048924, 840786.06417555, 648971.47225296, 627300.54263332,\n",
       "       332504.26036947, 592913.61298893, 674582.57089435, 396979.7534527 ,\n",
       "       385517.44357123, 454291.30286001, 507662.68324556, 714163.35970377,\n",
       "       547064.37346309, 564257.83828528, 638225.55673909, 559243.07771214,\n",
       "       497633.16209928, 556735.69742557, 737267.07805859, 584675.07776163,\n",
       "       705924.82447647, 606166.90878937, 492439.30293425, 452500.31694103,\n",
       "       448739.24651117, 467723.69725234, 512498.3452268 , 565511.52842856,\n",
       "       616912.82430324, 524139.75370016, 434053.16197555, 412919.5281316 ,\n",
       "       532736.48611126, 509632.76775644, 373696.93650598, 473096.65500928,\n",
       "       597749.27497018, 567302.51434754, 516975.81002425, 499961.44379395,\n",
       "       587182.4580482 , 632673.50039025, 521632.37341359, 665627.64129946,\n",
       "       563362.34532579, 525035.24665965, 406292.88023138, 227373.38692544,\n",
       "       433157.66901606, 415426.90841817, 458947.86624935, 512856.5424106 ,\n",
       "       358473.55619466, 395905.16190131, 372264.14777079, 479723.3029095 ,\n",
       "       431545.78168898, 487603.640953  , 478648.71135811, 418650.68307233,\n",
       "       359010.85197035, 485633.55644213, 488499.13391249, 467186.40147665,\n",
       "       426172.82393204, 387666.62667401, 470947.4719065 , 437097.83803781,\n",
       "       358652.65478656, 416859.69715336, 467902.79584424, 466828.20429285,\n",
       "       417934.28870474, 387845.72526591, 392502.28865525, 421874.4577265 ,\n",
       "       408621.16192606, 405576.48586379, 633568.99334974, 508020.88042936,\n",
       "       535960.26076542, 567839.81012324, 413815.02109109, 393039.58443094,\n",
       "       503722.51422381, 525035.24665965, 579481.2185966 , 499065.95083447,\n",
       "       515005.72551337, 390532.20414437, 541691.41570615, 350951.41533495,\n",
       "       399845.33092306, 449276.54228687, 482051.58460417, 434053.16197555,\n",
       "       431366.68309708, 482588.88037986, 456261.38737088, 297042.7391737 ,\n",
       "       376025.21820065, -25513.82483431, 225582.40100646,  28573.94991884,\n",
       "       215373.78126829,  77826.06269074, 646464.09196639, 527542.62694622,\n",
       "       553511.92277141, 479365.1057257 , 451246.62679774, 584675.07776163,\n",
       "       508916.37338885, 328205.89416392, 325340.31669356, 119018.73882725,\n",
       "       281819.35886238, 169882.73892623, 232209.04890668, 210717.21787894,\n",
       "       302057.49974684, 359906.34492984, 420441.66899131, 238656.598215  ,\n",
       "       445873.66904081, 391069.49992007, 495663.07758841, 483842.57052315,\n",
       "       365995.69705437, 313340.7110364 , 384801.04920364, 408979.35910985,\n",
       "       472738.45782548, 483663.47193125, 294714.45747903, 327310.40120444,\n",
       "       354533.38717291,  77826.06269074, 341100.99278057, 342712.88010765,\n",
       "       563899.64110148, 367786.68297335, 528975.4156814 , 165584.37272069,\n",
       "       259969.33065085, 146062.62620382, 489036.42968819, 551362.73966863,\n",
       "       286655.02084363, 403606.40135292, 558884.88052834, 484917.16207454,\n",
       "       412382.23235591, 348264.93645648, 429754.79577   , 333399.75332896,\n",
       "       392681.38724715, 382114.57032518, 447485.55636789, 445873.66904081,\n",
       "       479365.1057257 , 473633.95078497, 560496.76785542, 487424.54236111,\n",
       "       489394.62687198, 448560.14791927, 523960.65510826, 493872.09166943,\n",
       "       438530.62677299, 399666.23233116, 344503.86602663, 378711.69707912,\n",
       "       484021.66911505, 450530.23243015, 498170.45787498, 385159.24638744,\n",
       "       493513.89448563, 472380.26064169, 456261.38737088, 444440.88030562,\n",
       "       485991.75362592, 545452.48613601, 528617.21849761, 464499.92259818,\n",
       "       660791.97931822, 541691.41570615, 505334.40155089, 407009.27459897,\n",
       "       399845.33092306, 465216.31696577, 425814.62674825, 536855.75372491,\n",
       "       478648.71135811, 468081.89443614, 503185.21844812, 448739.24651117,\n",
       "       368144.88015714, 402710.90839343, 411844.93658022, 398054.34500408,\n",
       "       359906.34492984, 441217.10565146, 452321.21834913, 489573.72546388,\n",
       "       586824.26086441, 308684.14764706, 440321.61269197, 497991.35928308,\n",
       "       286655.02084363, 444440.88030562, 452321.21834913, 454649.5000438 ,\n",
       "       545631.5847279 , 601331.24680813, 368682.17593284, 388203.9224497 ,\n",
       "       467186.40147665, 431724.88028088, 394293.27457423, 313519.8096283 ,\n",
       "       306355.86595239, 248865.21795318, 408262.96474226, 408262.96474226,\n",
       "       358831.75337846, 398054.34500408, 352205.10547824, 302057.49974684,\n",
       "       374413.33087357, 414710.51405058, 334116.14769655, 416143.30278576,\n",
       "       517513.10579994, 432799.47183226, 586107.86649682, 553511.92277141,\n",
       "       416680.59856146])"
      ]
     },
     "execution_count": 14,
     "metadata": {},
     "output_type": "execute_result"
    }
   ],
   "source": [
    "y_pred=predict(x)\n",
    "y_pred"
   ]
  },
  {
   "cell_type": "code",
   "execution_count": 15,
   "id": "2aa0c3d2-f8ea-46f0-be9d-95a571d1b8b9",
   "metadata": {},
   "outputs": [
    {
     "data": {
      "text/plain": [
       "[<matplotlib.lines.Line2D at 0x7ff4857ef7f0>]"
      ]
     },
     "execution_count": 15,
     "metadata": {},
     "output_type": "execute_result"
    },
    {
     "data": {
      "image/png": "[encoded data removed]",
      "text/plain": [
       "<Figure size 640x480 with 1 Axes>"
      ]
     },
     "metadata": {},
     "output_type": "display_data"
    }
   ],
   "source": [
    "plt.scatter(x,y_pred,c='b')\n",
    "plt.scatter(x,y,c='g')\n",
    "y_line = model[1]+model[0]*x\n",
    "plt.plot(x,y_line,c='r')"
   ]
  },
  {
   "cell_type": "code",
   "execution_count": 16,
   "id": "7b14a615-5b50-4f6b-b08c-1fc51fe9dfdc",
   "metadata": {},
   "outputs": [],
   "source": [
    "from sklearn.metrics import r2_score\n",
    "def performance_metric(y, y_pred):\n",
    "    score = r2_score(y, y_pred)\n",
    "    return score"
   ]
  },
  {
   "cell_type": "code",
   "execution_count": 17,
   "id": "eb9c6efd-0eec-40b9-9334-99a7bf1ebdd9",
   "metadata": {},
   "outputs": [
    {
     "data": {
      "text/plain": [
       "0.48610069787324506"
      ]
     },
     "execution_count": 17,
     "metadata": {},
     "output_type": "execute_result"
    }
   ],
   "source": [
    "r2_score(y,y_pred)"
   ]
  },
  {
   "cell_type": "code",
   "execution_count": 24,
   "id": "07dd128c-dd76-4143-9a32-54d0267494d7",
   "metadata": {},
   "outputs": [
    {
     "name": "stdout",
     "output_type": "stream",
     "text": [
      "Mean Squared Error: 14019945196.249697\n"
     ]
    }
   ],
   "source": [
    "from sklearn.metrics import mean_squared_error\n",
    "mse = mean_squared_error(y, y_pred)\n",
    "print(f'Mean Squared Error: {mse}')"
   ]
  },
  {
   "cell_type": "code",
   "execution_count": 32,
   "id": "46b28715-f2fa-4b64-92ed-d10d3227d75d",
   "metadata": {},
   "outputs": [
    {
     "data": {
      "image/png": "[encoded data removed]",
      "text/plain": [
       "<Figure size 640x480 with 1 Axes>"
      ]
     },
     "metadata": {},
     "output_type": "display_data"
    }
   ],
   "source": [
    "plt.scatter(y, y_pred, c = 'g')\n",
    "plt.xlabel('Actual Prices')\n",
    "plt.ylabel('Predicted Prices')\n",
    "plt.title('Actual Prices vs Predicted Prices')\n",
    "plt.show()"
   ]
  },
  {
   "cell_type": "code",
   "execution_count": 38,
   "id": "42370590-b61e-4a0f-91d6-89d583173600",
   "metadata": {},
   "outputs": [
    {
     "name": "stdout",
     "output_type": "stream",
     "text": [
      "Actual Prices vs Predicted Prices [ 504000.  453600.  728700.  701400.  760200.  602700.  480900.  569100.\n",
      "  346500.  396900.  315000.  396900.  455700.  428400.  382200.  417900.\n",
      "  485100.  367500.  424200.  382200.  285600.  411600.  319200.  304500.\n",
      "  327600.  291900.  348600.  310800.  386400.  441000.  266700.  304500.\n",
      "  277200.  275100.  283500.  396900.  420000.  441000.  518700.  646800.\n",
      "  732900.  558600.  531300.  518700.  445200.  405300.  420000.  348600.\n",
      "  302400.  407400.  413700.  430500.  525000.  491400.  396900.  743400.\n",
      "  518700.  663600.  489300.  411600.  392700.  336000.  466200.  525000.\n",
      "  693000.  493500.  407400.  462000.  365400.  438900.  508200.  455700.\n",
      "  478800.  491400.  506100.  449400.  420000.  436800.  445200.  426300.\n",
      "  588000.  501900.  520800.  480900.  501900.  558600.  472500.  466200.\n",
      "  495600.  602700.  474600.  462000.  480900.  525000.  432600.  596400.\n",
      "  449400.  812700.  919800.  697200.  577500.  556500.  390600.  405300.\n",
      "  422100.  409500.  409500.  428400.  415800.  407400.  455700.  478800.\n",
      "  394800.  392700.  388500.  384300.  445200.  403200.  428400.  405300.\n",
      "  462000.  426300.  430500.  363300.  394800.  449400.  329700.  340200.\n",
      "  378000.  300300.  403200.  411600.  483000.  386400.  327600.  380100.\n",
      "  365400.  359100.  279300.  373800.  294000.  302400.  281400.  327600.\n",
      "  247800.  289800.  327600.  306600.  373800.  323400.  451500.  411600.\n",
      "  321300.  407400.  357000.  327600.  275100.  867300.  510300.  489300.\n",
      "  567000.  476700.  525000.  499800.  499800.  468300.  365400.  401100.\n",
      "  485100.  495600.  474600.  617400.  487200.  516600.  627900.  781200.\n",
      "  835800.  760200.  795900.  682500.  554400.  621600.  672000.  625800.\n",
      "  732900.  777000.  640500.  764400.  653100.  611100.  699300.  636300.\n",
      "  726600.  732900.  690900.  506100.  888300. 1018500.  474600.  512400.\n",
      "  472500.  512400.  420000.  455700.  405300.  470400.  590100.  497700.\n",
      "  525000.  489300.  602700.  451500.  483000.  560700.  455700.  577500.\n",
      "  632100.  940800.  789600.  663600.  980700.  661500.  510300.  665700.\n",
      "  875700. 1014300.  609000.  504000.  527100.  661500.  497700.  489300.\n",
      "  462000.  422100.  466200.  497700.  369600.  388500.  510300.  430500.\n",
      "  514500.  550200.  512400.  520800.  621600.  898800.  459900.  438900.\n",
      "  924000.  756000.  632100.  709800.  905100. 1024800.  651000.  766500.\n",
      "  478800.  644700.  913500.  434700.  443100.  529200.  512400.  739200.\n",
      "  680400.  672000.  697200.  695100.  611100.  737100.  953400.  743400.\n",
      "  966000.  676200.  462000.  422100.  487200.  468300.  520800.  598500.\n",
      "  783300.  585900.  501900.  455700.  600600.  569100.  426300.  472500.\n",
      "  609000.  520800.  462000.  554400.  695100.  758100.  596400.  701400.\n",
      "  592200.  478800.  426300.  338100.  464100.  407400.  453600.  499800.\n",
      "  340200.  373800.  415800.  485100.  441000.  499800.  485100.  428400.\n",
      "  388500.  525000.  516600.  483000.  466200.  405300.  474600.  415800.\n",
      "  359100.  407400.  466200.  434700.  443100.  409500.  388500.  432600.\n",
      "  399000.  392700.  686700.  346500.  501900.  655200.  367500.  361200.\n",
      "  485100.  514500.  558600.  480900.  506100.  390600.  632100.  382200.\n",
      "  432600.  373800.  455700.  476700.  474600.  525000.  417900.  436800.\n",
      "  352800.  577500.  459900.  485100.  289800.  289800.  315000.  291900.\n",
      "  279300.  275100.  214200.  218400.  228900.  237300.  258300.  184800.\n",
      "  151200.  220500.  155400.  214200.  241500.  317100.  487200.  203700.\n",
      "  289800.  266700.  275100.  262500.  178500.  105000.  132300.  117600.\n",
      "  151200.  254100.  174300.  178500.  105000.  249900.  585900.  361200.\n",
      "  577500.  315000.  361200.  375900.  342300.  147000.  151200.  157500.\n",
      "  218400.  184800.  176400.  350700.  298200.  436800.  281400.  245700.\n",
      "  174300.  214200.  228900.  231000.  199500.  304500.  296100.  338100.\n",
      "  300300.  245700.  281400.  201600.  182700.  176400.  268800.  220500.\n",
      "  359100.  386400.  323400.  226800.  247800.  312900.  264600.  296100.\n",
      "  273000.  281400.  319200.  338100.  373800.  312900.  296100.  266700.\n",
      "  283500.  312900.  420000.  344400.  371700.  409500.  424200.  449400.\n",
      "  417900.  399000.  401100.  401100.  422100.  417900.  411600.  487200.\n",
      "  625800.  289800.  279300.  350700.  252000.  306600.  449400.  483000.\n",
      "  497700.  525000.  457800.  432600.  445200.  401100.  432600.  319200.\n",
      "  147000.  170100.  285600.  422100.  457800.  514500.  485100.  413700.\n",
      "  384300.  445200.  367500.  352800.  470400.  432600.  501900.  462000.\n",
      "  249900.] [514289.33114578 486708.14799351 623539.47220346 590048.03551857\n",
      " 616733.72571135 488320.03532059 413456.8239073  442112.59861095\n",
      " 345220.26039422 412024.03517211 478827.80995001 412919.5281316\n",
      " 391427.69710386 402173.61261773 428501.10562672 381577.27454948\n",
      " 399666.23233116 409516.65488554 313878.0068121  362413.72521641\n",
      " 334295.24628845 405039.1900881  436739.64085402 377816.20411963\n",
      " 397696.14782029 339489.10545349 377816.20411963 419725.27462372\n",
      " 499961.44379395 532020.09174367 359906.34492984 424202.73942117\n",
      " 402352.71120963 357757.16182707 428501.10562672 399308.03514737\n",
      " 382830.96469277 384442.85201985 405218.28868    517871.30298374\n",
      " 594704.59890791 549213.55656586 441575.30283526 449097.44369497\n",
      " 423665.44364547 354354.28858101 372980.54213839 416680.59856146\n",
      " 303669.38707392 340026.40122918 404680.9929043  431903.97887277\n",
      " 502827.02126432 410949.44362073 391248.59851197 635001.78208493\n",
      " 479902.4015014  557452.09179316 437276.93662971 398233.44359598\n",
      " 364921.10550298 405218.28868    492976.59870994 547780.76783068\n",
      " 609032.48625974 463246.2324549  373159.64073028 389457.61259299\n",
      " 338593.612494   390711.30273627 485991.75362592 404322.79572051\n",
      " 422949.04927788 455186.79581949 460201.55639263 462529.83808731\n",
      " 461276.14794402 436381.44367022 452858.51412482 388741.2182254\n",
      " 541512.31711425 522169.66918929 465395.41555767 441217.10565146\n",
      " 480976.99305278 524139.75370016 413994.11968299 432978.57042416\n",
      " 591659.92284565 604555.02146229 485991.75362592 483842.57052315\n",
      " 490469.21842337 449097.44369497 455903.19018709 523244.26074067\n",
      " 440500.71128387 781862.62744116 737267.07805859 664911.24693187\n",
      " 541512.31711425 551183.64107674 483842.57052315 435844.14789453\n",
      " 441217.10565146 384621.95061174 381935.47173328 434053.16197555\n",
      " 496200.3733641  452321.21834913 446231.8662246  539363.13401148\n",
      " 395726.06330941 427784.71125912 456798.68314657 398412.54218788\n",
      " 442828.99297854 415068.71123438 388383.0210416  363130.119584\n",
      " 388024.8238578  412024.03517211 404322.79572051 385517.44357123\n",
      " 389636.71118488 408800.26051795 341996.48574006 356324.37309189\n",
      " 488499.13391249 346294.85194561 493334.79589373 469693.78176322\n",
      " 477932.31699052 379428.09144671 367786.68297335 471305.6690903\n",
      " 400919.92247445 492618.40152614 385696.54216313 438351.5281811\n",
      " 442470.79579475 235611.92215274 304385.78144151 316027.18991487\n",
      " 214836.48549259 434590.45775124 344682.96461853 218955.75310624\n",
      " 265521.38699968 339130.90826969 433157.66901606 304564.88003341\n",
      " 234358.23200946 359189.95056225 434411.35915934 438530.62677299\n",
      " 280923.86590289 580197.61296419 423128.14786978 502647.92267242\n",
      " 456082.28877898 385159.24638744 429396.59858621 389278.51400109\n",
      " 468440.09161993 483305.27474746 388920.31681729 389815.80977678\n",
      " 334653.44347225 485812.65503402 386054.73934693 509095.47198074\n",
      " 414889.61264248 467723.69725234 565332.42983667 586824.26086441\n",
      " 727416.65550421 437097.83803781 618166.51444653 512140.14804301\n",
      " 340384.59841298 438709.72536489 551362.73966863 510886.45789972\n",
      " 623539.47220346 581630.40169937 543661.50021703 622285.78206018\n",
      " 554586.5143228  519483.19031082 641807.52857704 609569.78203543\n",
      " 639479.24688237 585928.76790492 614584.54260857 440321.61269197\n",
      " 699656.37376005 743177.33159122 391785.89428766 469693.78176322\n",
      " 372443.24636269 422769.95068598 293818.96451954 404143.69712861\n",
      " 304564.88003341 376741.61256824 478469.61276621 305997.66876859\n",
      " 443903.58452993 391248.59851197 526288.93680294 402531.80980153\n",
      " 478111.41558242 581630.40169937 440679.80987577 568735.30308273\n",
      " 521990.57059739 817145.05004503 776668.76827612 619599.30318171\n",
      " 713267.86674428 510170.06353213 407904.76755846 664194.85256427\n",
      " 829861.05006978 813742.17679897 541333.21852236 426710.11970774\n",
      " 524318.85229206 654523.52860179 497454.06350738 519841.38749461\n",
      " 571959.07773689 428322.00703482 475424.93670395 481693.38742037\n",
      " 338414.5139021  340563.69700488 430650.28872949 451783.92257344\n",
      " 488857.33109629 539900.42978717 498528.65505877 489752.82405578\n",
      " 582704.99325076 815891.35990175 430650.28872949 389099.41540919\n",
      " 671716.99342398 650046.06380434 562108.65518251 626763.24685763\n",
      " 683537.50048924 840786.06417555 648971.47225296 627300.54263332\n",
      " 332504.26036947 592913.61298893 674582.57089435 396979.7534527\n",
      " 385517.44357123 454291.30286001 507662.68324556 714163.35970377\n",
      " 547064.37346309 564257.83828528 638225.55673909 559243.07771214\n",
      " 497633.16209928 556735.69742557 737267.07805859 584675.07776163\n",
      " 705924.82447647 606166.90878937 492439.30293425 452500.31694103\n",
      " 448739.24651117 467723.69725234 512498.3452268  565511.52842856\n",
      " 616912.82430324 524139.75370016 434053.16197555 412919.5281316\n",
      " 532736.48611126 509632.76775644 373696.93650598 473096.65500928\n",
      " 597749.27497018 567302.51434754 516975.81002425 499961.44379395\n",
      " 587182.4580482  632673.50039025 521632.37341359 665627.64129946\n",
      " 563362.34532579 525035.24665965 406292.88023138 227373.38692544\n",
      " 433157.66901606 415426.90841817 458947.86624935 512856.5424106\n",
      " 358473.55619466 395905.16190131 372264.14777079 479723.3029095\n",
      " 431545.78168898 487603.640953   478648.71135811 418650.68307233\n",
      " 359010.85197035 485633.55644213 488499.13391249 467186.40147665\n",
      " 426172.82393204 387666.62667401 470947.4719065  437097.83803781\n",
      " 358652.65478656 416859.69715336 467902.79584424 466828.20429285\n",
      " 417934.28870474 387845.72526591 392502.28865525 421874.4577265\n",
      " 408621.16192606 405576.48586379 633568.99334974 508020.88042936\n",
      " 535960.26076542 567839.81012324 413815.02109109 393039.58443094\n",
      " 503722.51422381 525035.24665965 579481.2185966  499065.95083447\n",
      " 515005.72551337 390532.20414437 541691.41570615 350951.41533495\n",
      " 399845.33092306 449276.54228687 482051.58460417 434053.16197555\n",
      " 431366.68309708 482588.88037986 456261.38737088 297042.7391737\n",
      " 376025.21820065 -25513.82483431 225582.40100646  28573.94991884\n",
      " 215373.78126829  77826.06269074 646464.09196639 527542.62694622\n",
      " 553511.92277141 479365.1057257  451246.62679774 584675.07776163\n",
      " 508916.37338885 328205.89416392 325340.31669356 119018.73882725\n",
      " 281819.35886238 169882.73892623 232209.04890668 210717.21787894\n",
      " 302057.49974684 359906.34492984 420441.66899131 238656.598215\n",
      " 445873.66904081 391069.49992007 495663.07758841 483842.57052315\n",
      " 365995.69705437 313340.7110364  384801.04920364 408979.35910985\n",
      " 472738.45782548 483663.47193125 294714.45747903 327310.40120444\n",
      " 354533.38717291  77826.06269074 341100.99278057 342712.88010765\n",
      " 563899.64110148 367786.68297335 528975.4156814  165584.37272069\n",
      " 259969.33065085 146062.62620382 489036.42968819 551362.73966863\n",
      " 286655.02084363 403606.40135292 558884.88052834 484917.16207454\n",
      " 412382.23235591 348264.93645648 429754.79577    333399.75332896\n",
      " 392681.38724715 382114.57032518 447485.55636789 445873.66904081\n",
      " 479365.1057257  473633.95078497 560496.76785542 487424.54236111\n",
      " 489394.62687198 448560.14791927 523960.65510826 493872.09166943\n",
      " 438530.62677299 399666.23233116 344503.86602663 378711.69707912\n",
      " 484021.66911505 450530.23243015 498170.45787498 385159.24638744\n",
      " 493513.89448563 472380.26064169 456261.38737088 444440.88030562\n",
      " 485991.75362592 545452.48613601 528617.21849761 464499.92259818\n",
      " 660791.97931822 541691.41570615 505334.40155089 407009.27459897\n",
      " 399845.33092306 465216.31696577 425814.62674825 536855.75372491\n",
      " 478648.71135811 468081.89443614 503185.21844812 448739.24651117\n",
      " 368144.88015714 402710.90839343 411844.93658022 398054.34500408\n",
      " 359906.34492984 441217.10565146 452321.21834913 489573.72546388\n",
      " 586824.26086441 308684.14764706 440321.61269197 497991.35928308\n",
      " 286655.02084363 444440.88030562 452321.21834913 454649.5000438\n",
      " 545631.5847279  601331.24680813 368682.17593284 388203.9224497\n",
      " 467186.40147665 431724.88028088 394293.27457423 313519.8096283\n",
      " 306355.86595239 248865.21795318 408262.96474226 408262.96474226\n",
      " 358831.75337846 398054.34500408 352205.10547824 302057.49974684\n",
      " 374413.33087357 414710.51405058 334116.14769655 416143.30278576\n",
      " 517513.10579994 432799.47183226 586107.86649682 553511.92277141\n",
      " 416680.59856146]\n"
     ]
    }
   ],
   "source": [
    "print('Actual Prices vs Predicted Prices',y,y_pred)  "
   ]
  },
  {
   "cell_type": "code",
   "execution_count": null,
   "id": "32e46a3c-c5f9-4ed2-a874-6218f471adca",
   "metadata": {},
   "outputs": [],
   "source": []
  }
 ],
 "metadata": {
  "kernelspec": {
   "display_name": "Python 3 (ipykernel)",
   "language": "python",
   "name": "python3"
  },
  "language_info": {
   "codemirror_mode": {
    "name": "ipython",
    "version": 3
   },
   "file_extension": ".py",
   "mimetype": "text/x-python",
   "name": "python",
   "nbconvert_exporter": "python",
   "pygments_lexer": "ipython3",
   "version": "3.8.10"
  }
 },
 "nbformat": 4,
 "nbformat_minor": 5
}
